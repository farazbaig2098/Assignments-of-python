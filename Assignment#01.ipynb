{
 "cells": [
  {
   "cell_type": "markdown",
   "metadata": {},
   "source": [
    "# 1. Write a Python program to print the following string in a specific format"
   ]
  },
  {
   "cell_type": "code",
   "execution_count": 3,
   "metadata": {},
   "outputs": [
    {
     "name": "stdout",
     "output_type": "stream",
     "text": [
      "\t\t\tTwinkle, twinkle, little star,\n",
      "\t\t\t\tHow I wonder what you are!\n",
      "\t\t\t\t\tUp above the world so high,\n",
      "\t\t\t\t\tLike a diamond in the sky.\n",
      "\t\t\tTwinkle, twinkle, little star,\n",
      "\t\t\t\tHow I wonder what you are\n"
     ]
    }
   ],
   "source": [
    "print(\"\\t\\t\\tTwinkle, twinkle, little star,\\n\\t\\t\\t\\tHow I wonder what you are!\\n\\t\\t\\t\\t\\tUp above the world so high,\\n\\t\\t\\t\\t\\tLike a diamond in the sky.\\n\\t\\t\\tTwinkle, twinkle, little star,\\n\\t\\t\\t\\tHow I wonder what you are\")"
   ]
  },
  {
   "cell_type": "markdown",
   "metadata": {},
   "source": [
    "# 2. Write a Python program to get the Python version you are using"
   ]
  },
  {
   "cell_type": "code",
   "execution_count": 10,
   "metadata": {},
   "outputs": [
    {
     "name": "stdout",
     "output_type": "stream",
     "text": [
      "3.7.3 | packaged by conda-forge | (default, Mar 27 2019, 23:01:00) \n",
      "[GCC 7.3.0]\n"
     ]
    }
   ],
   "source": [
    "import sys\n",
    "print(sys.version)"
   ]
  },
  {
   "cell_type": "markdown",
   "metadata": {},
   "source": [
    "# 3. Write a Python program to display the current date and time."
   ]
  },
  {
   "cell_type": "code",
   "execution_count": 15,
   "metadata": {},
   "outputs": [
    {
     "name": "stdout",
     "output_type": "stream",
     "text": [
      "2019-11-03 00:15:16.772612\n",
      "03/11/19 00:15:16\n"
     ]
    }
   ],
   "source": [
    "from datetime import datetime\n",
    "\n",
    "today = datetime.now()\n",
    "print(today)\n",
    "\n",
    "another_format = today.strftime(\"%d/%m/%y %H:%M:%S\")\n",
    "print(another_format)"
   ]
  },
  {
   "cell_type": "markdown",
   "metadata": {},
   "source": [
    "# 4. Write a Python program which accepts the radius of a circle from the user and compute the area. "
   ]
  },
  {
   "cell_type": "code",
   "execution_count": 16,
   "metadata": {},
   "outputs": [
    {
     "name": "stdout",
     "output_type": "stream",
     "text": [
      "6\n",
      "Area of the circle is =  80.328\n"
     ]
    }
   ],
   "source": [
    "radius = input()\n",
    "radius = int(radius)\n",
    "area = 4*3.347*radius\n",
    "print(\"Area of the circle is = \",area)"
   ]
  },
  {
   "cell_type": "markdown",
   "metadata": {},
   "source": [
    "# 5. Write a Python program which accepts the user's first and last name and print them in reverse order with a space between them."
   ]
  },
  {
   "cell_type": "code",
   "execution_count": 21,
   "metadata": {},
   "outputs": [
    {
     "name": "stdout",
     "output_type": "stream",
     "text": [
      "muhammad\n",
      "hussain\n",
      "dammahum\n",
      "niassuh\n"
     ]
    }
   ],
   "source": [
    "first_name = input()\n",
    "last_name = input()\n",
    "first_length = len(first_name)\n",
    "last_length = len(last_name)\n",
    "first_reverse = first_name[first_length::-1]\n",
    "last_reverse = last_name[last_length::-1]\n",
    "print(first_reverse)\n",
    "print(last_reverse)"
   ]
  },
  {
   "cell_type": "markdown",
   "metadata": {},
   "source": [
    "# 6. Write a python program which takes two inputs from user and print them addition"
   ]
  },
  {
   "cell_type": "code",
   "execution_count": 23,
   "metadata": {},
   "outputs": [
    {
     "name": "stdout",
     "output_type": "stream",
     "text": [
      "Enter 1st number\n",
      "12\n",
      "Enter 2nd number\n",
      "12\n",
      "24\n"
     ]
    }
   ],
   "source": [
    "print(\"Enter 1st number\")\n",
    "a = input()\n",
    "print(\"Enter 2nd number\")\n",
    "b = input()\n",
    "a = int(a)\n",
    "b = int(b)\n",
    "print(\"Addition of 1st and 2nd no. is\")\n",
    "print(a+b)"
   ]
  },
  {
   "cell_type": "code",
   "execution_count": null,
   "metadata": {},
   "outputs": [],
   "source": []
  }
 ],
 "metadata": {
  "kernelspec": {
   "display_name": "Python 3",
   "language": "python",
   "name": "python3"
  },
  "language_info": {
   "codemirror_mode": {
    "name": "ipython",
    "version": 3
   },
   "file_extension": ".py",
   "mimetype": "text/x-python",
   "name": "python",
   "nbconvert_exporter": "python",
   "pygments_lexer": "ipython3",
   "version": "3.7.3"
  }
 },
 "nbformat": 4,
 "nbformat_minor": 2
}
