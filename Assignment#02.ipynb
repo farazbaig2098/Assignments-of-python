{
 "cells": [
  {
   "cell_type": "markdown",
   "metadata": {},
   "source": [
    "# 1. Write a program which takes 5 inputs from user for different subject’s marks, total it and generate mark sheet using grades?"
   ]
  },
  {
   "cell_type": "code",
   "execution_count": 11,
   "metadata": {},
   "outputs": [
    {
     "name": "stdout",
     "output_type": "stream",
     "text": [
      "Enter your urdu marks12\n",
      "Enter your english marks12\n",
      "Enter your mathematics marks12\n",
      "Enter your physics marks12\n",
      "Enter your chemistry marks12\n",
      "You're fail\n"
     ]
    }
   ],
   "source": [
    "urdu = int(input(\"Enter your urdu marks\"))\n",
    "eng = int(input(\"Enter your english marks\"))\n",
    "maths = int(input(\"Enter your mathematics marks\"))\n",
    "phy = int(input (\"Enter your physics marks\"))\n",
    "chem = int(input(\"Enter your chemistry marks\"))\n",
    "total = urdu + eng + maths + chem + phy\n",
    "per = total*100/500\n",
    "if (per >= 80):\n",
    "    print(\"You're grade is A1+\")\n",
    "elif (per >=70 and per<80):\n",
    "    print(\"You're grade is A\")\n",
    "elif (per >=50 and per <70):\n",
    "    print(\"You're grade is only pass\")\n",
    "else:\n",
    "    print(\"You're fail\")"
   ]
  },
  {
   "cell_type": "markdown",
   "metadata": {},
   "source": [
    "# 2. Write a program which take input from user and identify that the given number is even or odd?"
   ]
  },
  {
   "cell_type": "code",
   "execution_count": 12,
   "metadata": {},
   "outputs": [
    {
     "name": "stdout",
     "output_type": "stream",
     "text": [
      "Enter any no. to find out the given number is even or odd?1212\n",
      "Entered number is even\n"
     ]
    }
   ],
   "source": [
    "a = int(input(\"Enter any no. to find out the given number is even or odd?\"))\n",
    "if a%2 == 0:\n",
    "    print(\"Entered number is even\")\n",
    "\n",
    "else:\n",
    "    print(\"Inputed no. is odd\")\n"
   ]
  },
  {
   "cell_type": "markdown",
   "metadata": {},
   "source": [
    "# 3. Write a program which print the length of the list?"
   ]
  },
  {
   "cell_type": "code",
   "execution_count": 13,
   "metadata": {},
   "outputs": [
    {
     "name": "stdout",
     "output_type": "stream",
     "text": [
      "3\n"
     ]
    }
   ],
   "source": [
    "lst = [\"hello\",\"world\",\"!\"]\n",
    "lstLen = len(lst)\n",
    "print(lstLen)"
   ]
  },
  {
   "cell_type": "markdown",
   "metadata": {},
   "source": [
    "# 4. Write a Python program to sum all the numeric items in a list?"
   ]
  },
  {
   "cell_type": "code",
   "execution_count": 14,
   "metadata": {},
   "outputs": [
    {
     "name": "stdout",
     "output_type": "stream",
     "text": [
      "396\n"
     ]
    }
   ],
   "source": [
    "arr = [12,13,123,124,124]\n",
    "add = 0\n",
    "for i in arr:\n",
    "    add = i+add\n",
    "    \n",
    "print(add)\n",
    "    \n"
   ]
  },
  {
   "cell_type": "markdown",
   "metadata": {},
   "source": [
    "# 5. Write a Python program to get the largest number from a numeric list?"
   ]
  },
  {
   "cell_type": "code",
   "execution_count": 15,
   "metadata": {},
   "outputs": [
    {
     "name": "stdout",
     "output_type": "stream",
     "text": [
      "124\n"
     ]
    }
   ],
   "source": [
    "maxi = max(arr)\n",
    "print(maxi)"
   ]
  },
  {
   "cell_type": "markdown",
   "metadata": {},
   "source": [
    "# 6. Take a list, say for example this one: a = [1, 1, 2, 3, 5, 8, 13, 21, 34, 55, 89] and write a program that prints out all the elements of the list that are less than 5."
   ]
  },
  {
   "cell_type": "code",
   "execution_count": 16,
   "metadata": {},
   "outputs": [
    {
     "name": "stdout",
     "output_type": "stream",
     "text": [
      "8\n",
      "13\n",
      "21\n",
      "34\n",
      "55\n",
      "89\n"
     ]
    }
   ],
   "source": [
    "a = [1, 1, 2, 3, 5, 8, 13, 21, 34, 55, 89]\n",
    "for i in a:\n",
    "    if i>5:\n",
    "        print(i)"
   ]
  },
  {
   "cell_type": "code",
   "execution_count": null,
   "metadata": {},
   "outputs": [],
   "source": []
  }
 ],
 "metadata": {
  "kernelspec": {
   "display_name": "Python 3",
   "language": "python",
   "name": "python3"
  },
  "language_info": {
   "codemirror_mode": {
    "name": "ipython",
    "version": 3
   },
   "file_extension": ".py",
   "mimetype": "text/x-python",
   "name": "python",
   "nbconvert_exporter": "python",
   "pygments_lexer": "ipython3",
   "version": "3.7.3"
  }
 },
 "nbformat": 4,
 "nbformat_minor": 2
}
